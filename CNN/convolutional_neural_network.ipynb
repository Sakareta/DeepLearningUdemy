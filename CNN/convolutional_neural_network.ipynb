{
  "nbformat": 4,
  "nbformat_minor": 2,
  "metadata": {
    "colab": {
      "name": "convolutional_neural_network.ipynb",
      "provenance": [],
      "collapsed_sections": [],
      "toc_visible": true
    },
    "kernelspec": {
      "name": "python3",
      "display_name": "Python 3.9.7 64-bit ('env1': venv)"
    },
    "language_info": {
      "name": "python",
      "version": "3.9.7",
      "mimetype": "text/x-python",
      "codemirror_mode": {
        "name": "ipython",
        "version": 3
      },
      "pygments_lexer": "ipython3",
      "nbconvert_exporter": "python",
      "file_extension": ".py"
    },
    "interpreter": {
      "hash": "b2af1daafd6ad350b44242976defd5ff65dadb99ba99b825653adc634e74451a"
    }
  },
  "cells": [
    {
      "cell_type": "markdown",
      "source": [
        "# Convolutional Neural Network"
      ],
      "metadata": {
        "id": "3DR-eO17geWu",
        "colab_type": "text"
      }
    },
    {
      "cell_type": "markdown",
      "source": [
        "### Importing the libraries"
      ],
      "metadata": {
        "id": "EMefrVPCg-60",
        "colab_type": "text"
      }
    },
    {
      "cell_type": "code",
      "execution_count": 1,
      "source": [
        "import tensorflow as tf\r\n",
        "from keras.preprocessing.image import ImageDataGenerator"
      ],
      "outputs": [],
      "metadata": {
        "id": "sCV30xyVhFbE",
        "colab_type": "code",
        "colab": {}
      }
    },
    {
      "cell_type": "code",
      "execution_count": 2,
      "source": [
        "tf.__version__"
      ],
      "outputs": [
        {
          "output_type": "execute_result",
          "data": {
            "text/plain": [
              "'2.6.0'"
            ]
          },
          "metadata": {},
          "execution_count": 2
        }
      ],
      "metadata": {
        "id": "FIleuCAjoFD8",
        "colab_type": "code",
        "colab": {}
      }
    },
    {
      "cell_type": "markdown",
      "source": [
        "## Part 1 - Data Preprocessing"
      ],
      "metadata": {
        "id": "oxQxCBWyoGPE",
        "colab_type": "text"
      }
    },
    {
      "cell_type": "markdown",
      "source": [
        "### Preprocessing the Training set"
      ],
      "metadata": {
        "id": "MvE-heJNo3GG",
        "colab_type": "text"
      }
    },
    {
      "cell_type": "code",
      "execution_count": 3,
      "source": [
        "train_datagen = ImageDataGenerator(rescale = 1./255,\r\n",
        "                                   shear_range = 0.2,\r\n",
        "                                   zoom_range = 0.2,\r\n",
        "                                   horizontal_flip = True)\r\n",
        "training_set = train_datagen.flow_from_directory('dataset/training_set',\r\n",
        "                                                 target_size = (64, 64),\r\n",
        "                                                 batch_size = 32,\r\n",
        "                                                 class_mode = 'binary')"
      ],
      "outputs": [
        {
          "output_type": "stream",
          "name": "stdout",
          "text": [
            "Found 8000 images belonging to 2 classes.\n"
          ]
        }
      ],
      "metadata": {
        "id": "0koUcJMJpEBD",
        "colab_type": "code",
        "colab": {}
      }
    },
    {
      "cell_type": "markdown",
      "source": [
        "### Preprocessing the Test set"
      ],
      "metadata": {
        "id": "mrCMmGw9pHys",
        "colab_type": "text"
      }
    },
    {
      "cell_type": "code",
      "execution_count": 4,
      "source": [
        "test_datagen = ImageDataGenerator(rescale = 1./255)\r\n",
        "test_set = test_datagen.flow_from_directory('dataset/test_set',\r\n",
        "                                            target_size = (64, 64),\r\n",
        "                                            batch_size = 32,\r\n",
        "                                            class_mode = 'binary')"
      ],
      "outputs": [
        {
          "output_type": "stream",
          "name": "stdout",
          "text": [
            "Found 2000 images belonging to 2 classes.\n"
          ]
        }
      ],
      "metadata": {
        "id": "SH4WzfOhpKc3",
        "colab_type": "code",
        "colab": {}
      }
    },
    {
      "cell_type": "markdown",
      "source": [
        "## Part 2 - Building the CNN"
      ],
      "metadata": {
        "id": "af8O4l90gk7B",
        "colab_type": "text"
      }
    },
    {
      "cell_type": "markdown",
      "source": [
        "### Initialising the CNN"
      ],
      "metadata": {
        "id": "ces1gXY2lmoX",
        "colab_type": "text"
      }
    },
    {
      "cell_type": "code",
      "execution_count": 5,
      "source": [
        "cnn = tf.keras.models.Sequential()"
      ],
      "outputs": [],
      "metadata": {
        "id": "SAUt4UMPlhLS",
        "colab_type": "code",
        "colab": {}
      }
    },
    {
      "cell_type": "markdown",
      "source": [
        "### Step 1 - Convolution"
      ],
      "metadata": {
        "id": "u5YJj_XMl5LF",
        "colab_type": "text"
      }
    },
    {
      "cell_type": "code",
      "execution_count": 6,
      "source": [
        "cnn.add(tf.keras.layers.Conv2D(filters=32, kernel_size=3, activation='relu', input_shape=[64, 64, 3]))"
      ],
      "outputs": [],
      "metadata": {
        "id": "XPzPrMckl-hV",
        "colab_type": "code",
        "colab": {}
      }
    },
    {
      "cell_type": "markdown",
      "source": [
        "### Step 2 - Pooling"
      ],
      "metadata": {
        "id": "tf87FpvxmNOJ",
        "colab_type": "text"
      }
    },
    {
      "cell_type": "code",
      "execution_count": 7,
      "source": [
        "cnn.add(tf.keras.layers.MaxPool2D(pool_size=2, strides=2))"
      ],
      "outputs": [],
      "metadata": {
        "id": "ncpqPl69mOac",
        "colab_type": "code",
        "colab": {}
      }
    },
    {
      "cell_type": "markdown",
      "source": [
        "### Adding a second convolutional layer"
      ],
      "metadata": {
        "id": "xaTOgD8rm4mU",
        "colab_type": "text"
      }
    },
    {
      "cell_type": "code",
      "execution_count": 8,
      "source": [
        "cnn.add(tf.keras.layers.Conv2D(filters=32, kernel_size=3, activation='relu'))\r\n",
        "cnn.add(tf.keras.layers.MaxPool2D(pool_size=2, strides=2))"
      ],
      "outputs": [],
      "metadata": {
        "id": "i_-FZjn_m8gk",
        "colab_type": "code",
        "colab": {}
      }
    },
    {
      "cell_type": "markdown",
      "source": [
        "### Step 3 - Flattening"
      ],
      "metadata": {
        "id": "tmiEuvTunKfk",
        "colab_type": "text"
      }
    },
    {
      "cell_type": "code",
      "execution_count": 9,
      "source": [
        "cnn.add(tf.keras.layers.Flatten())"
      ],
      "outputs": [],
      "metadata": {
        "id": "6AZeOGCvnNZn",
        "colab_type": "code",
        "colab": {}
      }
    },
    {
      "cell_type": "markdown",
      "source": [
        "### Step 4 - Full Connection"
      ],
      "metadata": {
        "id": "dAoSECOm203v",
        "colab_type": "text"
      }
    },
    {
      "cell_type": "code",
      "execution_count": 10,
      "source": [
        "cnn.add(tf.keras.layers.Dense(units=128, activation='relu'))"
      ],
      "outputs": [],
      "metadata": {
        "id": "8GtmUlLd26Nq",
        "colab_type": "code",
        "colab": {}
      }
    },
    {
      "cell_type": "markdown",
      "source": [
        "### Step 5 - Output Layer"
      ],
      "metadata": {
        "id": "yTldFvbX28Na",
        "colab_type": "text"
      }
    },
    {
      "cell_type": "code",
      "execution_count": 11,
      "source": [
        "cnn.add(tf.keras.layers.Dense(units=1, activation='sigmoid'))"
      ],
      "outputs": [],
      "metadata": {
        "id": "1p_Zj1Mc3Ko_",
        "colab_type": "code",
        "colab": {}
      }
    },
    {
      "cell_type": "markdown",
      "source": [
        "## Part 3 - Training the CNN"
      ],
      "metadata": {
        "id": "D6XkI90snSDl",
        "colab_type": "text"
      }
    },
    {
      "cell_type": "markdown",
      "source": [
        "### Compiling the CNN"
      ],
      "metadata": {
        "id": "vfrFQACEnc6i",
        "colab_type": "text"
      }
    },
    {
      "cell_type": "code",
      "execution_count": 12,
      "source": [
        "cnn.compile(optimizer = 'adam', loss = 'binary_crossentropy', metrics = ['accuracy'])"
      ],
      "outputs": [],
      "metadata": {
        "id": "NALksrNQpUlJ",
        "colab_type": "code",
        "colab": {}
      }
    },
    {
      "cell_type": "markdown",
      "source": [
        "### Training the CNN on the Training set and evaluating it on the Test set"
      ],
      "metadata": {
        "id": "ehS-v3MIpX2h",
        "colab_type": "text"
      }
    },
    {
      "cell_type": "code",
      "execution_count": 13,
      "source": [
        "cnn.fit(x = training_set, validation_data = test_set, epochs = 25)"
      ],
      "outputs": [
        {
          "output_type": "stream",
          "name": "stdout",
          "text": [
            "Epoch 1/25\n",
            "250/250 [==============================] - 23s 92ms/step - loss: 0.6768 - accuracy: 0.5748 - val_loss: 0.6100 - val_accuracy: 0.6700\n",
            "Epoch 2/25\n",
            "250/250 [==============================] - 18s 74ms/step - loss: 0.6053 - accuracy: 0.6693 - val_loss: 0.5753 - val_accuracy: 0.7125\n",
            "Epoch 3/25\n",
            "250/250 [==============================] - 19s 74ms/step - loss: 0.5648 - accuracy: 0.7016 - val_loss: 0.5764 - val_accuracy: 0.7195\n",
            "Epoch 4/25\n",
            "250/250 [==============================] - 19s 74ms/step - loss: 0.5328 - accuracy: 0.7327 - val_loss: 0.5552 - val_accuracy: 0.7355\n",
            "Epoch 5/25\n",
            "250/250 [==============================] - 18s 74ms/step - loss: 0.5066 - accuracy: 0.7548 - val_loss: 0.4947 - val_accuracy: 0.7650\n",
            "Epoch 6/25\n",
            "250/250 [==============================] - 19s 74ms/step - loss: 0.4912 - accuracy: 0.7600 - val_loss: 0.4735 - val_accuracy: 0.7725\n",
            "Epoch 7/25\n",
            "250/250 [==============================] - 19s 74ms/step - loss: 0.4633 - accuracy: 0.7788 - val_loss: 0.4651 - val_accuracy: 0.7730\n",
            "Epoch 8/25\n",
            "250/250 [==============================] - 18s 73ms/step - loss: 0.4605 - accuracy: 0.7796 - val_loss: 0.4558 - val_accuracy: 0.7875\n",
            "Epoch 9/25\n",
            "250/250 [==============================] - 18s 74ms/step - loss: 0.4373 - accuracy: 0.7909 - val_loss: 0.4746 - val_accuracy: 0.7820\n",
            "Epoch 10/25\n",
            "250/250 [==============================] - 18s 74ms/step - loss: 0.4271 - accuracy: 0.8067 - val_loss: 0.4510 - val_accuracy: 0.8005\n",
            "Epoch 11/25\n",
            "250/250 [==============================] - 19s 74ms/step - loss: 0.4136 - accuracy: 0.8092 - val_loss: 0.4614 - val_accuracy: 0.7880\n",
            "Epoch 12/25\n",
            "250/250 [==============================] - 18s 74ms/step - loss: 0.4021 - accuracy: 0.8146 - val_loss: 0.4525 - val_accuracy: 0.8055\n",
            "Epoch 13/25\n",
            "250/250 [==============================] - 18s 74ms/step - loss: 0.3905 - accuracy: 0.8220 - val_loss: 0.5183 - val_accuracy: 0.7815\n",
            "Epoch 14/25\n",
            "250/250 [==============================] - 18s 73ms/step - loss: 0.3859 - accuracy: 0.8232 - val_loss: 0.4601 - val_accuracy: 0.7995\n",
            "Epoch 15/25\n",
            "250/250 [==============================] - 18s 74ms/step - loss: 0.3689 - accuracy: 0.8336 - val_loss: 0.4966 - val_accuracy: 0.7870\n",
            "Epoch 16/25\n",
            "250/250 [==============================] - 18s 73ms/step - loss: 0.3652 - accuracy: 0.8334 - val_loss: 0.4725 - val_accuracy: 0.8005\n",
            "Epoch 17/25\n",
            "250/250 [==============================] - 18s 73ms/step - loss: 0.3594 - accuracy: 0.8406 - val_loss: 0.5016 - val_accuracy: 0.7815\n",
            "Epoch 18/25\n",
            "250/250 [==============================] - 18s 74ms/step - loss: 0.3453 - accuracy: 0.8450 - val_loss: 0.4686 - val_accuracy: 0.8090\n",
            "Epoch 19/25\n",
            "250/250 [==============================] - 18s 73ms/step - loss: 0.3405 - accuracy: 0.8522 - val_loss: 0.4911 - val_accuracy: 0.8045\n",
            "Epoch 20/25\n",
            "250/250 [==============================] - 18s 73ms/step - loss: 0.3346 - accuracy: 0.8543 - val_loss: 0.4564 - val_accuracy: 0.8070\n",
            "Epoch 21/25\n",
            "250/250 [==============================] - 18s 74ms/step - loss: 0.3308 - accuracy: 0.8556 - val_loss: 0.4848 - val_accuracy: 0.7910\n",
            "Epoch 22/25\n",
            "250/250 [==============================] - 19s 74ms/step - loss: 0.3113 - accuracy: 0.8612 - val_loss: 0.4790 - val_accuracy: 0.8145\n",
            "Epoch 23/25\n",
            "250/250 [==============================] - 18s 73ms/step - loss: 0.3130 - accuracy: 0.8630 - val_loss: 0.4829 - val_accuracy: 0.8040\n",
            "Epoch 24/25\n",
            "250/250 [==============================] - 18s 72ms/step - loss: 0.2970 - accuracy: 0.8729 - val_loss: 0.4747 - val_accuracy: 0.8015\n",
            "Epoch 25/25\n",
            "250/250 [==============================] - 18s 71ms/step - loss: 0.2835 - accuracy: 0.8813 - val_loss: 0.4645 - val_accuracy: 0.8065\n"
          ]
        },
        {
          "output_type": "execute_result",
          "data": {
            "text/plain": [
              "<keras.callbacks.History at 0x2b7850e3040>"
            ]
          },
          "metadata": {},
          "execution_count": 13
        }
      ],
      "metadata": {
        "id": "XUj1W4PJptta",
        "colab_type": "code",
        "colab": {}
      }
    },
    {
      "cell_type": "markdown",
      "source": [
        "## Part 4 - Making a single prediction"
      ],
      "metadata": {
        "id": "U3PZasO0006Z",
        "colab_type": "text"
      }
    },
    {
      "cell_type": "code",
      "execution_count": 24,
      "source": [
        "import numpy as np\r\n",
        "from keras.preprocessing import image\r\n",
        "test_image = image.load_img('dataset/single_prediction/cat_or_dog_1.jpg', target_size = (64, 64))\r\n",
        "test_image = image.img_to_array(test_image)\r\n",
        "test_image = np.expand_dims(test_image, axis = 0)\r\n",
        "result = cnn.predict(test_image/255.0)\r\n",
        "training_set.class_indices\r\n",
        "if result[0][0] > 0.5:\r\n",
        "  prediction = 'dog'\r\n",
        "else:\r\n",
        "  prediction = 'cat'"
      ],
      "outputs": [],
      "metadata": {
        "id": "gsSiWEJY1BPB",
        "colab_type": "code",
        "colab": {}
      }
    },
    {
      "cell_type": "code",
      "execution_count": 25,
      "source": [
        "print(prediction)"
      ],
      "outputs": [
        {
          "output_type": "stream",
          "name": "stdout",
          "text": [
            "dog\n"
          ]
        }
      ],
      "metadata": {
        "id": "ED9KB3I54c1i",
        "colab_type": "code",
        "colab": {}
      }
    }
  ]
}