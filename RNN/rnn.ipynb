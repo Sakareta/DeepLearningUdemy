{
  "nbformat": 4,
  "nbformat_minor": 2,
  "metadata": {
    "colab": {
      "name": "recurrent_neural_network.ipynb",
      "provenance": [],
      "collapsed_sections": []
    },
    "kernelspec": {
      "name": "python3",
      "display_name": "Python 3.9.7 64-bit ('env1': venv)"
    },
    "language_info": {
      "name": "python",
      "version": "3.9.7",
      "mimetype": "text/x-python",
      "codemirror_mode": {
        "name": "ipython",
        "version": 3
      },
      "pygments_lexer": "ipython3",
      "nbconvert_exporter": "python",
      "file_extension": ".py"
    },
    "interpreter": {
      "hash": "b2af1daafd6ad350b44242976defd5ff65dadb99ba99b825653adc634e74451a"
    }
  },
  "cells": [
    {
      "cell_type": "markdown",
      "source": [
        "# Recurrent Neural Network"
      ],
      "metadata": {
        "id": "xpAuMVCwfWs8",
        "colab_type": "text"
      }
    },
    {
      "cell_type": "markdown",
      "source": [
        "## Part 1 - Data Preprocessing"
      ],
      "metadata": {
        "id": "nxJfRe4bfYVA",
        "colab_type": "text"
      }
    },
    {
      "cell_type": "markdown",
      "source": [
        "### Importing the libraries"
      ],
      "metadata": {
        "id": "ir9zwETrfbrp",
        "colab_type": "text"
      }
    },
    {
      "cell_type": "code",
      "execution_count": 1,
      "source": [
        "import numpy as np\r\n",
        "import matplotlib.pyplot as plt\r\n",
        "import pandas as pd"
      ],
      "outputs": [],
      "metadata": {
        "id": "ZT1f24vHffuf",
        "colab_type": "code",
        "colab": {}
      }
    },
    {
      "cell_type": "markdown",
      "source": [
        "### Importing the training set"
      ],
      "metadata": {
        "id": "nQ47JAxrgmaL",
        "colab_type": "text"
      }
    },
    {
      "cell_type": "code",
      "execution_count": 2,
      "source": [
        "dataset_train = pd.read_csv('Google_Stock_Price_Train.csv')\r\n",
        "training_set = dataset_train.iloc[:, 1:2].values"
      ],
      "outputs": [],
      "metadata": {
        "id": "1xiv3pJOgqY3",
        "colab_type": "code",
        "colab": {}
      }
    },
    {
      "cell_type": "markdown",
      "source": [
        "### Feature Scaling"
      ],
      "metadata": {
        "id": "HT8_2UJegtG5",
        "colab_type": "text"
      }
    },
    {
      "cell_type": "code",
      "execution_count": 3,
      "source": [
        "from sklearn.preprocessing import MinMaxScaler\r\n",
        "sc = MinMaxScaler(feature_range = (0, 1))\r\n",
        "training_set_scaled = sc.fit_transform(training_set)"
      ],
      "outputs": [],
      "metadata": {
        "id": "OTrF2kR7gx9x",
        "colab_type": "code",
        "colab": {}
      }
    },
    {
      "cell_type": "markdown",
      "source": [
        "### Creating a data structure with 60 timesteps and 1 output"
      ],
      "metadata": {
        "id": "JyYgYocqhNUg",
        "colab_type": "text"
      }
    },
    {
      "cell_type": "code",
      "execution_count": 4,
      "source": [
        "X_train = []\r\n",
        "y_train = []\r\n",
        "for i in range(60, 1258):\r\n",
        "    X_train.append(training_set_scaled[i-60:i, 0])\r\n",
        "    y_train.append(training_set_scaled[i, 0])\r\n",
        "X_train, y_train = np.array(X_train), np.array(y_train)"
      ],
      "outputs": [],
      "metadata": {
        "id": "iofU21B0i6ST",
        "colab_type": "code",
        "colab": {}
      }
    },
    {
      "cell_type": "code",
      "execution_count": 5,
      "source": [
        "print(training_set_scaled)"
      ],
      "outputs": [
        {
          "output_type": "stream",
          "name": "stdout",
          "text": [
            "[[0.08581368]\n",
            " [0.09701243]\n",
            " [0.09433366]\n",
            " ...\n",
            " [0.95725128]\n",
            " [0.93796041]\n",
            " [0.93688146]]\n"
          ]
        }
      ],
      "metadata": {}
    },
    {
      "cell_type": "code",
      "execution_count": 6,
      "source": [
        "print(X_train)"
      ],
      "outputs": [
        {
          "output_type": "stream",
          "name": "stdout",
          "text": [
            "[[0.08581368 0.09701243 0.09433366 ... 0.07846566 0.08034452 0.08497656]\n",
            " [0.09701243 0.09433366 0.09156187 ... 0.08034452 0.08497656 0.08627874]\n",
            " [0.09433366 0.09156187 0.07984225 ... 0.08497656 0.08627874 0.08471612]\n",
            " ...\n",
            " [0.92106928 0.92438053 0.93048218 ... 0.95475854 0.95204256 0.95163331]\n",
            " [0.92438053 0.93048218 0.9299055  ... 0.95204256 0.95163331 0.95725128]\n",
            " [0.93048218 0.9299055  0.93113327 ... 0.95163331 0.95725128 0.93796041]]\n"
          ]
        }
      ],
      "metadata": {}
    },
    {
      "cell_type": "markdown",
      "source": [
        "### Reshaping"
      ],
      "metadata": {
        "id": "D8yaN7Zvi95l",
        "colab_type": "text"
      }
    },
    {
      "cell_type": "code",
      "execution_count": 7,
      "source": [
        "X_train = np.reshape(X_train, (X_train.shape[0], X_train.shape[1], 1))"
      ],
      "outputs": [],
      "metadata": {
        "id": "FOXqJHmNjBkz",
        "colab_type": "code",
        "colab": {}
      }
    },
    {
      "cell_type": "markdown",
      "source": [
        "## Part 2 - Building and Training the RNN"
      ],
      "metadata": {
        "id": "ZRRSOJeVjEWV",
        "colab_type": "text"
      }
    },
    {
      "cell_type": "markdown",
      "source": [
        "### Importing the Keras libraries and packages"
      ],
      "metadata": {
        "id": "k4XV88JMjHXG",
        "colab_type": "text"
      }
    },
    {
      "cell_type": "code",
      "execution_count": 8,
      "source": [
        "from keras.models import Sequential\r\n",
        "from keras.layers import Dense\r\n",
        "from keras.layers import LSTM\r\n",
        "from keras.layers import Dropout"
      ],
      "outputs": [],
      "metadata": {
        "id": "9JRnqsxEjKsD",
        "colab_type": "code",
        "colab": {
          "base_uri": "https://localhost:8080/",
          "height": 34
        },
        "outputId": "b3e23e78-18aa-4396-c923-c877b8de60e4"
      }
    },
    {
      "cell_type": "markdown",
      "source": [
        "### Initialising the RNN"
      ],
      "metadata": {
        "id": "FEIE-1s9jNzC",
        "colab_type": "text"
      }
    },
    {
      "cell_type": "code",
      "execution_count": 9,
      "source": [
        "regressor = Sequential()"
      ],
      "outputs": [],
      "metadata": {
        "id": "1338dJ0UjRKH",
        "colab_type": "code",
        "colab": {}
      }
    },
    {
      "cell_type": "markdown",
      "source": [
        "### Adding the first LSTM layer and some Dropout regularisation"
      ],
      "metadata": {
        "id": "62eg1OPGjT8z",
        "colab_type": "text"
      }
    },
    {
      "cell_type": "code",
      "execution_count": 10,
      "source": [
        "regressor.add(LSTM(units = 50, return_sequences = True, input_shape = (X_train.shape[1], 1)))\r\n",
        "regressor.add(Dropout(0.2))"
      ],
      "outputs": [],
      "metadata": {
        "id": "2hIinyXUjbVU",
        "colab_type": "code",
        "colab": {}
      }
    },
    {
      "cell_type": "markdown",
      "source": [
        "### Adding a second LSTM layer and some Dropout regularisation"
      ],
      "metadata": {
        "id": "3XBIYLyOjlMx",
        "colab_type": "text"
      }
    },
    {
      "cell_type": "code",
      "execution_count": 11,
      "source": [
        "regressor.add(LSTM(units = 50, return_sequences = True))\r\n",
        "regressor.add(Dropout(0.2))"
      ],
      "outputs": [],
      "metadata": {
        "id": "UG7nrVaSjuZ2",
        "colab_type": "code",
        "colab": {}
      }
    },
    {
      "cell_type": "markdown",
      "source": [
        "### Adding a third LSTM layer and some Dropout regularisation"
      ],
      "metadata": {
        "id": "Ey3fHVnGj1cu",
        "colab_type": "text"
      }
    },
    {
      "cell_type": "code",
      "execution_count": 12,
      "source": [
        "regressor.add(LSTM(units = 50, return_sequences = True))\r\n",
        "regressor.add(Dropout(0.2))"
      ],
      "outputs": [],
      "metadata": {
        "id": "PuNi6PgFj7jO",
        "colab_type": "code",
        "colab": {}
      }
    },
    {
      "cell_type": "markdown",
      "source": [
        "### Adding a fourth LSTM layer and some Dropout regularisation"
      ],
      "metadata": {
        "id": "SYTrtfTmj933",
        "colab_type": "text"
      }
    },
    {
      "cell_type": "code",
      "execution_count": 13,
      "source": [
        "regressor.add(LSTM(units = 50))\r\n",
        "regressor.add(Dropout(0.2))"
      ],
      "outputs": [],
      "metadata": {
        "id": "Jp4Ty8fRkBYV",
        "colab_type": "code",
        "colab": {}
      }
    },
    {
      "cell_type": "markdown",
      "source": [
        "### Adding the output layer"
      ],
      "metadata": {
        "id": "9ABI6rOIkHhk",
        "colab_type": "text"
      }
    },
    {
      "cell_type": "code",
      "execution_count": 14,
      "source": [
        "regressor.add(Dense(units = 1))"
      ],
      "outputs": [],
      "metadata": {
        "id": "aM6R1z4WkME8",
        "colab_type": "code",
        "colab": {}
      }
    },
    {
      "cell_type": "markdown",
      "source": [
        "### Compiling the RNN"
      ],
      "metadata": {
        "id": "zLx4K7uUkPSh",
        "colab_type": "text"
      }
    },
    {
      "cell_type": "code",
      "execution_count": 15,
      "source": [
        "regressor.compile(optimizer = 'adam', loss = 'mean_squared_error')"
      ],
      "outputs": [],
      "metadata": {
        "id": "XTrhVN-tkbko",
        "colab_type": "code",
        "colab": {}
      }
    },
    {
      "cell_type": "markdown",
      "source": [
        "### Fitting the RNN to the Training set"
      ],
      "metadata": {
        "id": "-mPhwKGkkebi",
        "colab_type": "text"
      }
    },
    {
      "cell_type": "code",
      "execution_count": 16,
      "source": [
        "regressor.fit(X_train, y_train, epochs = 100, batch_size = 32)"
      ],
      "outputs": [
        {
          "output_type": "stream",
          "name": "stdout",
          "text": [
            "Epoch 1/100\n",
            "38/38 [==============================] - 5s 45ms/step - loss: 0.0397\n",
            "Epoch 2/100\n",
            "38/38 [==============================] - 2s 45ms/step - loss: 0.0064\n",
            "Epoch 3/100\n",
            "38/38 [==============================] - 2s 45ms/step - loss: 0.0057\n",
            "Epoch 4/100\n",
            "38/38 [==============================] - 2s 45ms/step - loss: 0.0052\n",
            "Epoch 5/100\n",
            "38/38 [==============================] - 2s 45ms/step - loss: 0.0049\n",
            "Epoch 6/100\n",
            "38/38 [==============================] - 2s 45ms/step - loss: 0.0051\n",
            "Epoch 7/100\n",
            "38/38 [==============================] - 2s 45ms/step - loss: 0.0045\n",
            "Epoch 8/100\n",
            "38/38 [==============================] - 2s 45ms/step - loss: 0.0046\n",
            "Epoch 9/100\n",
            "38/38 [==============================] - 2s 45ms/step - loss: 0.0047\n",
            "Epoch 10/100\n",
            "38/38 [==============================] - 2s 45ms/step - loss: 0.0047\n",
            "Epoch 11/100\n",
            "38/38 [==============================] - 2s 45ms/step - loss: 0.0046\n",
            "Epoch 12/100\n",
            "38/38 [==============================] - 2s 45ms/step - loss: 0.0041\n",
            "Epoch 13/100\n",
            "38/38 [==============================] - 2s 45ms/step - loss: 0.0039\n",
            "Epoch 14/100\n",
            "38/38 [==============================] - 2s 45ms/step - loss: 0.0038\n",
            "Epoch 15/100\n",
            "38/38 [==============================] - 2s 44ms/step - loss: 0.0046\n",
            "Epoch 16/100\n",
            "38/38 [==============================] - 2s 44ms/step - loss: 0.0037\n",
            "Epoch 17/100\n",
            "38/38 [==============================] - 2s 47ms/step - loss: 0.0035\n",
            "Epoch 18/100\n",
            "38/38 [==============================] - 2s 48ms/step - loss: 0.0041\n",
            "Epoch 19/100\n",
            "38/38 [==============================] - 2s 46ms/step - loss: 0.0035\n",
            "Epoch 20/100\n",
            "38/38 [==============================] - 2s 45ms/step - loss: 0.0034\n",
            "Epoch 21/100\n",
            "38/38 [==============================] - 2s 45ms/step - loss: 0.0038\n",
            "Epoch 22/100\n",
            "38/38 [==============================] - 2s 45ms/step - loss: 0.0035\n",
            "Epoch 23/100\n",
            "38/38 [==============================] - 2s 45ms/step - loss: 0.0034\n",
            "Epoch 24/100\n",
            "38/38 [==============================] - 2s 44ms/step - loss: 0.0031\n",
            "Epoch 25/100\n",
            "38/38 [==============================] - 2s 45ms/step - loss: 0.0033\n",
            "Epoch 26/100\n",
            "38/38 [==============================] - 2s 44ms/step - loss: 0.0031\n",
            "Epoch 27/100\n",
            "38/38 [==============================] - 2s 45ms/step - loss: 0.0031\n",
            "Epoch 28/100\n",
            "38/38 [==============================] - 2s 45ms/step - loss: 0.0035\n",
            "Epoch 29/100\n",
            "38/38 [==============================] - 2s 45ms/step - loss: 0.0029\n",
            "Epoch 30/100\n",
            "38/38 [==============================] - 2s 45ms/step - loss: 0.0033\n",
            "Epoch 31/100\n",
            "38/38 [==============================] - 2s 45ms/step - loss: 0.0028\n",
            "Epoch 32/100\n",
            "38/38 [==============================] - 2s 45ms/step - loss: 0.0029\n",
            "Epoch 33/100\n",
            "38/38 [==============================] - 2s 45ms/step - loss: 0.0031\n",
            "Epoch 34/100\n",
            "38/38 [==============================] - 2s 45ms/step - loss: 0.0028\n",
            "Epoch 35/100\n",
            "38/38 [==============================] - 2s 45ms/step - loss: 0.0028\n",
            "Epoch 36/100\n",
            "38/38 [==============================] - 2s 45ms/step - loss: 0.0030\n",
            "Epoch 37/100\n",
            "38/38 [==============================] - 2s 45ms/step - loss: 0.0027\n",
            "Epoch 38/100\n",
            "38/38 [==============================] - 2s 45ms/step - loss: 0.0026\n",
            "Epoch 39/100\n",
            "38/38 [==============================] - 2s 45ms/step - loss: 0.0027\n",
            "Epoch 40/100\n",
            "38/38 [==============================] - 2s 45ms/step - loss: 0.0026\n",
            "Epoch 41/100\n",
            "38/38 [==============================] - 2s 45ms/step - loss: 0.0028\n",
            "Epoch 42/100\n",
            "38/38 [==============================] - 2s 45ms/step - loss: 0.0026\n",
            "Epoch 43/100\n",
            "38/38 [==============================] - 2s 45ms/step - loss: 0.0027\n",
            "Epoch 44/100\n",
            "38/38 [==============================] - 2s 45ms/step - loss: 0.0032\n",
            "Epoch 45/100\n",
            "38/38 [==============================] - 2s 45ms/step - loss: 0.0023\n",
            "Epoch 46/100\n",
            "38/38 [==============================] - 2s 45ms/step - loss: 0.0025\n",
            "Epoch 47/100\n",
            "38/38 [==============================] - 2s 45ms/step - loss: 0.0025\n",
            "Epoch 48/100\n",
            "38/38 [==============================] - 2s 47ms/step - loss: 0.0026\n",
            "Epoch 49/100\n",
            "38/38 [==============================] - 2s 46ms/step - loss: 0.0023\n",
            "Epoch 50/100\n",
            "38/38 [==============================] - 2s 46ms/step - loss: 0.0024\n",
            "Epoch 51/100\n",
            "38/38 [==============================] - 2s 46ms/step - loss: 0.0024\n",
            "Epoch 52/100\n",
            "38/38 [==============================] - 2s 46ms/step - loss: 0.0024\n",
            "Epoch 53/100\n",
            "38/38 [==============================] - 2s 46ms/step - loss: 0.0021\n",
            "Epoch 54/100\n",
            "38/38 [==============================] - 2s 46ms/step - loss: 0.0024\n",
            "Epoch 55/100\n",
            "38/38 [==============================] - 2s 47ms/step - loss: 0.0023\n",
            "Epoch 56/100\n",
            "38/38 [==============================] - 2s 47ms/step - loss: 0.0025\n",
            "Epoch 57/100\n",
            "38/38 [==============================] - 2s 45ms/step - loss: 0.0024\n",
            "Epoch 58/100\n",
            "38/38 [==============================] - 2s 45ms/step - loss: 0.0021\n",
            "Epoch 59/100\n",
            "38/38 [==============================] - 2s 47ms/step - loss: 0.0020\n",
            "Epoch 60/100\n",
            "38/38 [==============================] - 2s 49ms/step - loss: 0.0020\n",
            "Epoch 61/100\n",
            "38/38 [==============================] - 2s 48ms/step - loss: 0.0022\n",
            "Epoch 62/100\n",
            "38/38 [==============================] - 2s 47ms/step - loss: 0.0021\n",
            "Epoch 63/100\n",
            "38/38 [==============================] - 2s 45ms/step - loss: 0.0016\n",
            "Epoch 64/100\n",
            "38/38 [==============================] - 2s 46ms/step - loss: 0.0021\n",
            "Epoch 65/100\n",
            "38/38 [==============================] - 2s 46ms/step - loss: 0.0019\n",
            "Epoch 66/100\n",
            "38/38 [==============================] - 2s 45ms/step - loss: 0.0020\n",
            "Epoch 67/100\n",
            "38/38 [==============================] - 2s 45ms/step - loss: 0.0019\n",
            "Epoch 68/100\n",
            "38/38 [==============================] - 2s 45ms/step - loss: 0.0018\n",
            "Epoch 69/100\n",
            "38/38 [==============================] - 2s 45ms/step - loss: 0.0019\n",
            "Epoch 70/100\n",
            "38/38 [==============================] - 2s 45ms/step - loss: 0.0019\n",
            "Epoch 71/100\n",
            "38/38 [==============================] - 2s 45ms/step - loss: 0.0020\n",
            "Epoch 72/100\n",
            "38/38 [==============================] - 2s 48ms/step - loss: 0.0019\n",
            "Epoch 73/100\n",
            "38/38 [==============================] - 2s 45ms/step - loss: 0.0017\n",
            "Epoch 74/100\n",
            "38/38 [==============================] - 2s 45ms/step - loss: 0.0017\n",
            "Epoch 75/100\n",
            "38/38 [==============================] - 2s 45ms/step - loss: 0.0018\n",
            "Epoch 76/100\n",
            "38/38 [==============================] - 2s 45ms/step - loss: 0.0019\n",
            "Epoch 77/100\n",
            "38/38 [==============================] - 2s 45ms/step - loss: 0.0018\n",
            "Epoch 78/100\n",
            "38/38 [==============================] - 2s 46ms/step - loss: 0.0016\n",
            "Epoch 79/100\n",
            "38/38 [==============================] - 2s 45ms/step - loss: 0.0017\n",
            "Epoch 80/100\n",
            "38/38 [==============================] - 2s 45ms/step - loss: 0.0016\n",
            "Epoch 81/100\n",
            "38/38 [==============================] - 2s 45ms/step - loss: 0.0015\n",
            "Epoch 82/100\n",
            "38/38 [==============================] - 2s 46ms/step - loss: 0.0015\n",
            "Epoch 83/100\n",
            "38/38 [==============================] - 2s 45ms/step - loss: 0.0015\n",
            "Epoch 84/100\n",
            "38/38 [==============================] - 2s 45ms/step - loss: 0.0017\n",
            "Epoch 85/100\n",
            "38/38 [==============================] - 2s 45ms/step - loss: 0.0016\n",
            "Epoch 86/100\n",
            "38/38 [==============================] - 2s 45ms/step - loss: 0.0016\n",
            "Epoch 87/100\n",
            "38/38 [==============================] - 2s 45ms/step - loss: 0.0016\n",
            "Epoch 88/100\n",
            "38/38 [==============================] - 2s 48ms/step - loss: 0.0015\n",
            "Epoch 89/100\n",
            "38/38 [==============================] - 2s 47ms/step - loss: 0.0015\n",
            "Epoch 90/100\n",
            "38/38 [==============================] - 2s 46ms/step - loss: 0.0016\n",
            "Epoch 91/100\n",
            "38/38 [==============================] - 2s 47ms/step - loss: 0.0020\n",
            "Epoch 92/100\n",
            "38/38 [==============================] - 2s 47ms/step - loss: 0.0016\n",
            "Epoch 93/100\n",
            "38/38 [==============================] - 2s 45ms/step - loss: 0.0014\n",
            "Epoch 94/100\n",
            "38/38 [==============================] - 2s 46ms/step - loss: 0.0014\n",
            "Epoch 95/100\n",
            "38/38 [==============================] - 2s 45ms/step - loss: 0.0015\n",
            "Epoch 96/100\n",
            "38/38 [==============================] - 2s 45ms/step - loss: 0.0016\n",
            "Epoch 97/100\n",
            "38/38 [==============================] - 2s 45ms/step - loss: 0.0016\n",
            "Epoch 98/100\n",
            "38/38 [==============================] - 2s 45ms/step - loss: 0.0016\n",
            "Epoch 99/100\n",
            "38/38 [==============================] - 2s 45ms/step - loss: 0.0014\n",
            "Epoch 100/100\n",
            "38/38 [==============================] - 2s 45ms/step - loss: 0.0016\n"
          ]
        },
        {
          "output_type": "execute_result",
          "data": {
            "text/plain": [
              "<keras.callbacks.History at 0x2a00f9dcf10>"
            ]
          },
          "metadata": {},
          "execution_count": 16
        }
      ],
      "metadata": {
        "id": "I06Nkrz5kkb-",
        "colab_type": "code",
        "colab": {
          "base_uri": "https://localhost:8080/",
          "height": 1000
        },
        "outputId": "dc9d947a-4d5c-4dbc-ed45-31bf44b98dfb"
      }
    },
    {
      "cell_type": "markdown",
      "source": [
        "## Part 3 - Making the predictions and visualising the results"
      ],
      "metadata": {
        "id": "4hRau_lIkrE8",
        "colab_type": "text"
      }
    },
    {
      "cell_type": "markdown",
      "source": [
        "### Getting the real stock price of 2017"
      ],
      "metadata": {
        "id": "SgJO6qEDksxD",
        "colab_type": "text"
      }
    },
    {
      "cell_type": "code",
      "execution_count": 17,
      "source": [
        "dataset_test = pd.read_csv('Google_Stock_Price_Test.csv')\r\n",
        "real_stock_price = dataset_test.iloc[:, 1:2].values"
      ],
      "outputs": [],
      "metadata": {
        "id": "FmBT2zqukxTz",
        "colab_type": "code",
        "colab": {}
      }
    },
    {
      "cell_type": "markdown",
      "source": [
        "### Getting the predicted stock price of 2017"
      ],
      "metadata": {
        "id": "GrvrLblxkz42",
        "colab_type": "text"
      }
    },
    {
      "cell_type": "code",
      "execution_count": 18,
      "source": [
        "dataset_total = pd.concat((dataset_train['Open'], dataset_test['Open']), axis = 0)\r\n",
        "inputs = dataset_total[len(dataset_total) - len(dataset_test) - 60:].values\r\n",
        "inputs = inputs.reshape(-1,1)\r\n",
        "inputs = sc.transform(inputs)\r\n",
        "X_test = []\r\n",
        "for i in range(60, 80):\r\n",
        "    X_test.append(inputs[i-60:i, 0])\r\n",
        "X_test = np.array(X_test)\r\n",
        "X_test = np.reshape(X_test, (X_test.shape[0], X_test.shape[1], 1))\r\n",
        "predicted_stock_price = regressor.predict(X_test)\r\n",
        "predicted_stock_price = sc.inverse_transform(predicted_stock_price)"
      ],
      "outputs": [],
      "metadata": {
        "id": "emikTvUpk3Ck",
        "colab_type": "code",
        "colab": {}
      }
    },
    {
      "cell_type": "markdown",
      "source": [
        "### Visualising the results"
      ],
      "metadata": {
        "id": "iFTNs3YHk6FQ",
        "colab_type": "text"
      }
    },
    {
      "cell_type": "code",
      "execution_count": 19,
      "source": [
        "plt.plot(real_stock_price, color = 'red', label = 'Real Google Stock Price')\r\n",
        "plt.plot(predicted_stock_price, color = 'blue', label = 'Predicted Google Stock Price')\r\n",
        "plt.title('Google Stock Price Prediction')\r\n",
        "plt.xlabel('Time')\r\n",
        "plt.ylabel('Google Stock Price')\r\n",
        "plt.legend()\r\n",
        "plt.show()"
      ],
      "outputs": [
        {
          "output_type": "display_data",
          "data": {
            "image/png": "[encoded data removed]",
            "text/plain": [
              "<Figure size 432x288 with 1 Axes>"
            ]
          },
          "metadata": {
            "needs_background": "light"
          }
        }
      ],
      "metadata": {
        "id": "8OUI8U49k9tH",
        "colab_type": "code",
        "colab": {
          "base_uri": "https://localhost:8080/",
          "height": 295
        },
        "outputId": "db0ed15e-071b-4bae-955e-0eda3df95238"
      }
    }
  ]
}