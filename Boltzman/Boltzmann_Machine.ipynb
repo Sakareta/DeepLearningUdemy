{
  "nbformat": 4,
  "nbformat_minor": 2,
  "metadata": {
    "colab": {
      "name": "Boltzmann Machine.ipynb",
      "provenance": [],
      "collapsed_sections": [],
      "toc_visible": true
    },
    "kernelspec": {
      "name": "python3",
      "display_name": "Python 3.9.7 64-bit ('env1': venv)"
    },
    "language_info": {
      "name": "python",
      "version": "3.9.7",
      "mimetype": "text/x-python",
      "codemirror_mode": {
        "name": "ipython",
        "version": 3
      },
      "pygments_lexer": "ipython3",
      "nbconvert_exporter": "python",
      "file_extension": ".py"
    },
    "interpreter": {
      "hash": "b2af1daafd6ad350b44242976defd5ff65dadb99ba99b825653adc634e74451a"
    }
  },
  "cells": [
    {
      "cell_type": "markdown",
      "source": [
        "#Boltzmann Machine"
      ],
      "metadata": {
        "id": "K4f4JG1gdKqj"
      }
    },
    {
      "cell_type": "markdown",
      "source": [
        "##Downloading the dataset"
      ],
      "metadata": {
        "id": "1jbiqOK7dLGG"
      }
    },
    {
      "cell_type": "markdown",
      "source": [
        "###ML-100K"
      ],
      "metadata": {
        "id": "XL5MEkLcfRD2"
      }
    },
    {
      "cell_type": "code",
      "execution_count": 1,
      "source": [
        "!wget \"http://files.grouplens.org/datasets/movielens/ml-100k.zip\"\r\n",
        "!unzip ml-100k.zip\r\n",
        "!ls"
      ],
      "outputs": [
        {
          "output_type": "stream",
          "name": "stderr",
          "text": [
            "'wget' is not recognized as an internal or external command,\n",
            "operable program or batch file.\n",
            "'unzip' is not recognized as an internal or external command,\n",
            "operable program or batch file.\n",
            "'ls' is not recognized as an internal or external command,\n",
            "operable program or batch file.\n"
          ]
        }
      ],
      "metadata": {
        "id": "rjOPzue7FCXJ",
        "colab": {
          "base_uri": "https://localhost:8080/",
          "height": 646
        },
        "outputId": "44d3a628-f522-4d0d-efdf-009b7d3a28df"
      }
    },
    {
      "cell_type": "markdown",
      "source": [
        "###ML-1M"
      ],
      "metadata": {
        "id": "9Xis6ldDfTs6"
      }
    },
    {
      "cell_type": "code",
      "execution_count": null,
      "source": [
        "!wget \"http://files.grouplens.org/datasets/movielens/ml-1m.zip\"\r\n",
        "!unzip ml-1m.zip\r\n",
        "!ls"
      ],
      "outputs": [
        {
          "output_type": "stream",
          "name": "stdout",
          "text": [
            "--2020-06-08 15:18:16--  http://files.grouplens.org/datasets/movielens/ml-1m.zip\n",
            "Resolving files.grouplens.org (files.grouplens.org)... 128.101.65.152\n",
            "Connecting to files.grouplens.org (files.grouplens.org)|128.101.65.152|:80... connected.\n",
            "HTTP request sent, awaiting response... 200 OK\n",
            "Length: 5917549 (5.6M) [application/zip]\n",
            "Saving to: ‘ml-1m.zip’\n",
            "\n",
            "ml-1m.zip           100%[===================>]   5.64M  2.44MB/s    in 2.3s    \n",
            "\n",
            "2020-06-08 15:18:19 (2.44 MB/s) - ‘ml-1m.zip’ saved [5917549/5917549]\n",
            "\n",
            "Archive:  ml-1m.zip\n",
            "   creating: ml-1m/\n",
            "  inflating: ml-1m/movies.dat        \n",
            "  inflating: ml-1m/ratings.dat       \n",
            "  inflating: ml-1m/README            \n",
            "  inflating: ml-1m/users.dat         \n",
            "ml-100k  ml-100k.zip  ml-1m  ml-1m.zip\tsample_data\n"
          ]
        }
      ],
      "metadata": {
        "id": "LOly1yfAfTjd",
        "colab": {
          "base_uri": "https://localhost:8080/",
          "height": 323
        },
        "outputId": "22029b8c-79f2-46a2-a745-cdce83582b40"
      }
    },
    {
      "cell_type": "markdown",
      "source": [
        "##Importing the libraries"
      ],
      "metadata": {
        "id": "EOBJ8UCXdY0g"
      }
    },
    {
      "cell_type": "code",
      "execution_count": null,
      "source": [
        "import numpy as np\r\n",
        "import pandas as pd\r\n",
        "import torch\r\n",
        "import torch.nn as nn\r\n",
        "import torch.nn.parallel\r\n",
        "import torch.optim as optim\r\n",
        "import torch.utils.data\r\n",
        "from torch.autograd import Variable"
      ],
      "outputs": [],
      "metadata": {
        "id": "_LvGeU1CeCtg"
      }
    },
    {
      "cell_type": "markdown",
      "source": [
        "## Importing the dataset\n"
      ],
      "metadata": {
        "id": "pM04FyMudkoK"
      }
    },
    {
      "cell_type": "code",
      "execution_count": null,
      "source": [
        "# We won't be using this dataset.\r\n",
        "movies = pd.read_csv('ml-1m/movies.dat', sep = '::', header = None, engine = 'python', encoding = 'latin-1')\r\n",
        "users = pd.read_csv('ml-1m/users.dat', sep = '::', header = None, engine = 'python', encoding = 'latin-1')\r\n",
        "ratings = pd.read_csv('ml-1m/ratings.dat', sep = '::', header = None, engine = 'python', encoding = 'latin-1')"
      ],
      "outputs": [],
      "metadata": {
        "id": "UJw2p3-Cewo4"
      }
    },
    {
      "cell_type": "markdown",
      "source": [
        "## Preparing the training set and the test set\n"
      ],
      "metadata": {
        "id": "yTIbE2tkdkwP"
      }
    },
    {
      "cell_type": "code",
      "execution_count": null,
      "source": [
        "training_set = pd.read_csv('ml-100k/u1.base', delimiter = '\\t')\r\n",
        "training_set = np.array(training_set, dtype = 'int')\r\n",
        "test_set = pd.read_csv('ml-100k/u1.test', delimiter = '\\t')\r\n",
        "test_set = np.array(test_set, dtype = 'int')"
      ],
      "outputs": [],
      "metadata": {
        "id": "2usLKJBEgPE2"
      }
    },
    {
      "cell_type": "markdown",
      "source": [
        "## Getting the number of users and movies\n"
      ],
      "metadata": {
        "id": "zCf8HjSydk4s"
      }
    },
    {
      "cell_type": "code",
      "execution_count": null,
      "source": [
        "nb_users = int(max(max(training_set[:, 0], ), max(test_set[:, 0])))\n",
        "nb_movies = int(max(max(training_set[:, 1], ), max(test_set[:, 1])))"
      ],
      "outputs": [],
      "metadata": {
        "id": "gPaGZqdniC5m"
      }
    },
    {
      "cell_type": "markdown",
      "source": [
        "## Converting the data into an array with users in lines and movies in columns\n"
      ],
      "metadata": {
        "id": "J-w4-hVidlAm"
      }
    },
    {
      "cell_type": "code",
      "execution_count": null,
      "source": [
        "def convert(data):\n",
        "  new_data = []\n",
        "  for id_users in range(1, nb_users + 1):\n",
        "    id_movies = data[:, 1] [data[:, 0] == id_users]\n",
        "    id_ratings = data[:, 2] [data[:, 0] == id_users]\n",
        "    ratings = np.zeros(nb_movies)\n",
        "    ratings[id_movies - 1] = id_ratings\n",
        "    new_data.append(list(ratings))\n",
        "  return new_data\n",
        "training_set = convert(training_set)\n",
        "test_set = convert(test_set)"
      ],
      "outputs": [],
      "metadata": {
        "id": "-wASs2YFiDaa"
      }
    },
    {
      "cell_type": "markdown",
      "source": [
        "## Converting the data into Torch tensors\n"
      ],
      "metadata": {
        "id": "AMmhuUpldlHo"
      }
    },
    {
      "cell_type": "code",
      "execution_count": null,
      "source": [
        "training_set = torch.FloatTensor(training_set)\n",
        "test_set = torch.FloatTensor(test_set)"
      ],
      "outputs": [],
      "metadata": {
        "id": "TwD-KD8yiEEw"
      }
    },
    {
      "cell_type": "markdown",
      "source": [
        "## Converting the ratings into binary ratings 1 (Liked) or 0 (Not Liked)\n"
      ],
      "metadata": {
        "id": "HIPruubGdlPW"
      }
    },
    {
      "cell_type": "code",
      "execution_count": null,
      "source": [
        "training_set[training_set == 0] = -1\n",
        "training_set[training_set == 1] = 0\n",
        "training_set[training_set == 2] = 0\n",
        "training_set[training_set >= 3] = 1\n",
        "test_set[test_set == 0] = -1\n",
        "test_set[test_set == 1] = 0\n",
        "test_set[test_set == 2] = 0\n",
        "test_set[test_set >= 3] = 1"
      ],
      "outputs": [],
      "metadata": {
        "id": "cslbPSh6iEka"
      }
    },
    {
      "cell_type": "markdown",
      "source": [
        "## Creating the architecture of the Neural Network\n"
      ],
      "metadata": {
        "id": "6kkL8NkkdlZj"
      }
    },
    {
      "cell_type": "code",
      "execution_count": null,
      "source": [
        "class RBM():\n",
        "  def __init__(self, nv, nh):\n",
        "    self.W = torch.randn(nh, nv)\n",
        "    self.a = torch.randn(1, nh)\n",
        "    self.b = torch.randn(1, nv)\n",
        "  def sample_h(self, x):\n",
        "    wx = torch.mm(x, self.W.t())\n",
        "    activation = wx + self.a.expand_as(wx)\n",
        "    p_h_given_v = torch.sigmoid(activation)\n",
        "    return p_h_given_v, torch.bernoulli(p_h_given_v)\n",
        "  def sample_v(self, y):\n",
        "    wy = torch.mm(y, self.W)\n",
        "    activation = wy + self.b.expand_as(wy)\n",
        "    p_v_given_h = torch.sigmoid(activation)\n",
        "    return p_v_given_h, torch.bernoulli(p_v_given_h)\n",
        "  def train(self, v0, vk, ph0, phk):\n",
        "    self.W += (torch.mm(v0.t(), ph0) - torch.mm(vk.t(), phk)).t()\n",
        "    self.b += torch.sum((v0 - vk), 0)\n",
        "    self.a += torch.sum((ph0 - phk), 0)\n",
        "nv = len(training_set[0])\n",
        "nh = 100\n",
        "batch_size = 100\n",
        "rbm = RBM(nv, nh)"
      ],
      "outputs": [],
      "metadata": {
        "id": "oU2nyh76iE6M"
      }
    },
    {
      "cell_type": "markdown",
      "source": [
        "## Training the RBM\n"
      ],
      "metadata": {
        "id": "7gy59alAdloL"
      }
    },
    {
      "cell_type": "code",
      "execution_count": null,
      "source": [
        "nb_epoch = 10\n",
        "for epoch in range(1, nb_epoch + 1):\n",
        "  train_loss = 0\n",
        "  s = 0.\n",
        "  for id_user in range(0, nb_users - batch_size, batch_size):\n",
        "    vk = training_set[id_user : id_user + batch_size]\n",
        "    v0 = training_set[id_user : id_user + batch_size]\n",
        "    ph0,_ = rbm.sample_h(v0)\n",
        "    for k in range(10):\n",
        "      _,hk = rbm.sample_h(vk)\n",
        "      _,vk = rbm.sample_v(hk)\n",
        "      vk[v0<0] = v0[v0<0]\n",
        "    phk,_ = rbm.sample_h(vk)\n",
        "    rbm.train(v0, vk, ph0, phk)\n",
        "    train_loss += torch.mean(torch.abs(v0[v0 >= 0] - vk[v0 >= 0]))\n",
        "    s += 1.\n",
        "  print('epoch: '+str(epoch)+' loss: '+str(train_loss/s))\n"
      ],
      "outputs": [
        {
          "output_type": "stream",
          "name": "stdout",
          "text": [
            "epoch: 1 loss: tensor(0.3446)\n",
            "epoch: 2 loss: tensor(0.2168)\n",
            "epoch: 3 loss: tensor(0.2445)\n",
            "epoch: 4 loss: tensor(0.2458)\n",
            "epoch: 5 loss: tensor(0.2490)\n",
            "epoch: 6 loss: tensor(0.2498)\n",
            "epoch: 7 loss: tensor(0.2468)\n",
            "epoch: 8 loss: tensor(0.2488)\n",
            "epoch: 9 loss: tensor(0.2497)\n",
            "epoch: 10 loss: tensor(0.2462)\n"
          ]
        }
      ],
      "metadata": {
        "id": "FEz9hRaciFTs",
        "colab": {
          "base_uri": "https://localhost:8080/",
          "height": 187
        },
        "outputId": "677ba886-38ee-43f2-9a2d-bed081429295"
      }
    },
    {
      "cell_type": "markdown",
      "source": [
        "## Testing the RBM\n"
      ],
      "metadata": {
        "id": "Bak5uc8gd-gX"
      }
    },
    {
      "cell_type": "code",
      "execution_count": null,
      "source": [
        "test_loss = 0\n",
        "s = 0.\n",
        "for id_user in range(nb_users):\n",
        "    v = training_set[id_user:id_user+1]\n",
        "    vt = test_set[id_user:id_user+1]\n",
        "    if len(vt[vt>=0]) > 0:\n",
        "        _,h = rbm.sample_h(v)\n",
        "        _,v = rbm.sample_v(h)\n",
        "        test_loss += torch.mean(torch.abs(vt[vt>=0] - v[vt>=0]))\n",
        "        s += 1.\n",
        "print('test loss: '+str(test_loss/s))"
      ],
      "outputs": [
        {
          "output_type": "stream",
          "name": "stdout",
          "text": [
            "test loss: tensor(0.2359)\n"
          ]
        }
      ],
      "metadata": {
        "id": "5ztvzYRtiGCz",
        "colab": {
          "base_uri": "https://localhost:8080/",
          "height": 34
        },
        "outputId": "2b5ed305-7700-4e25-c59a-5adae77a603a"
      }
    }
  ]
}