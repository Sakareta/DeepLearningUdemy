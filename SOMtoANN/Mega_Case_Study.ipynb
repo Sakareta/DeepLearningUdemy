{
  "nbformat": 4,
  "nbformat_minor": 2,
  "metadata": {
    "colab": {
      "name": "Mega_Case_Study.ipynb",
      "provenance": [],
      "collapsed_sections": [],
      "toc_visible": true
    },
    "kernelspec": {
      "name": "python3",
      "display_name": "Python 3.9.7 64-bit ('env1': venv)"
    },
    "language_info": {
      "name": "python",
      "version": "3.9.7",
      "mimetype": "text/x-python",
      "codemirror_mode": {
        "name": "ipython",
        "version": 3
      },
      "pygments_lexer": "ipython3",
      "nbconvert_exporter": "python",
      "file_extension": ".py"
    },
    "interpreter": {
      "hash": "b2af1daafd6ad350b44242976defd5ff65dadb99ba99b825653adc634e74451a"
    }
  },
  "cells": [
    {
      "cell_type": "markdown",
      "source": [
        "#Mega Case Study - Making a hybrid Deep Learning Model"
      ],
      "metadata": {
        "id": "GJYk9gRO_W9P"
      }
    },
    {
      "cell_type": "markdown",
      "source": [
        "#Part 1 - SOM"
      ],
      "metadata": {
        "id": "D8PA8C_X_fHe"
      }
    },
    {
      "cell_type": "markdown",
      "source": [
        "## Importing the libraries\n"
      ],
      "metadata": {
        "id": "y2L7M7QLAAVx"
      }
    },
    {
      "cell_type": "code",
      "execution_count": 1,
      "source": [
        "import numpy as np\r\n",
        "import pandas as pd\r\n",
        "import matplotlib.pyplot as plt"
      ],
      "outputs": [],
      "metadata": {
        "id": "zy0_GMcbAAVx"
      }
    },
    {
      "cell_type": "markdown",
      "source": [
        "## Importing the dataset"
      ],
      "metadata": {
        "id": "M74YAQUJAAVz"
      }
    },
    {
      "cell_type": "code",
      "execution_count": 2,
      "source": [
        "dataset = pd.read_csv('Credit_Card_Applications.csv')\r\n",
        "X = dataset.iloc[:, :-1].values \r\n",
        "y = dataset.iloc[:, -1].values"
      ],
      "outputs": [],
      "metadata": {
        "id": "oP387iJvAAV0"
      }
    },
    {
      "cell_type": "markdown",
      "source": [
        "## Feature Scaling\n"
      ],
      "metadata": {
        "id": "xaNRHZwYAAV2"
      }
    },
    {
      "cell_type": "code",
      "execution_count": 3,
      "source": [
        "from sklearn.preprocessing import MinMaxScaler\r\n",
        "sc = MinMaxScaler(feature_range = (0,1))\r\n",
        "X = sc.fit_transform(X)"
      ],
      "outputs": [],
      "metadata": {
        "id": "57QK6WXTAAV3"
      }
    },
    {
      "cell_type": "markdown",
      "source": [
        "##Training the SOM\n"
      ],
      "metadata": {
        "id": "WyD5sEHYAAV5"
      }
    },
    {
      "cell_type": "code",
      "execution_count": 4,
      "source": [
        "from minisom import MiniSom\r\n",
        "som = MiniSom(x=10, y=10, input_len= 15, sigma= 1.0, learning_rate = 0.5)\r\n",
        "som.random_weights_init(X)\r\n",
        "som.train_random(data = X, num_iteration = 100)"
      ],
      "outputs": [],
      "metadata": {
        "id": "-BXn8YphAAV6"
      }
    },
    {
      "cell_type": "markdown",
      "source": [
        "##Visualizing the results\n"
      ],
      "metadata": {
        "id": "d9qf8w7sAAV8"
      }
    },
    {
      "cell_type": "code",
      "execution_count": 5,
      "source": [
        "from pylab import bone, pcolor, colorbar, plot, show\r\n",
        "bone()\r\n",
        "pcolor(som.distance_map().T)\r\n",
        "colorbar()\r\n",
        "markers = ['o', 's']\r\n",
        "colors = ['r', 'g']\r\n",
        "for i, x in enumerate(X):\r\n",
        "    w = som.winner(x)\r\n",
        "    plot(w[0] + 0.5,\r\n",
        "         w[1] + 0.5,\r\n",
        "         markers[y[i]],\r\n",
        "         markeredgecolor = colors[y[i]],\r\n",
        "         markerfacecolor = 'None',\r\n",
        "         markersize = 10,\r\n",
        "         markeredgewidth = 2)\r\n",
        "show()"
      ],
      "outputs": [
        {
          "output_type": "display_data",
          "data": {
            "image/png": "[encoded data removed]",
            "text/plain": [
              "<Figure size 432x288 with 2 Axes>"
            ]
          },
          "metadata": {
            "needs_background": "light"
          }
        }
      ],
      "metadata": {
        "id": "cshl06SmAAV8",
        "colab": {
          "base_uri": "https://localhost:8080/",
          "height": 269
        },
        "outputId": "e183b980-8d59-473a-d72d-f3086473e90d"
      }
    },
    {
      "cell_type": "markdown",
      "source": [
        "## Finding the frauds\n"
      ],
      "metadata": {
        "id": "gijZkcIGAAWA"
      }
    },
    {
      "cell_type": "code",
      "execution_count": 6,
      "source": [
        "mappings = som.win_map(X)\r\n",
        "frauds = np.concatenate((mappings[(7,5)], mappings[(1,8)]), axis = 0)\r\n",
        "frauds = sc.inverse_transform(frauds)"
      ],
      "outputs": [],
      "metadata": {
        "id": "EJIH9sDvAAWA"
      }
    },
    {
      "cell_type": "markdown",
      "source": [
        "##Printing the Fraunch Clients"
      ],
      "metadata": {
        "id": "EOVO2DzCAAWD"
      }
    },
    {
      "cell_type": "code",
      "execution_count": 7,
      "source": [
        "print('Fraud Customer IDs')\r\n",
        "for i in frauds[:, 0]:\r\n",
        "  print(int(i))"
      ],
      "outputs": [
        {
          "output_type": "stream",
          "name": "stdout",
          "text": [
            "Fraud Customer IDs\n",
            "15790113\n",
            "15757467\n",
            "15815443\n",
            "15748432\n",
            "15799785\n",
            "15696287\n"
          ]
        }
      ],
      "metadata": {
        "id": "IjotUwR3AAWD",
        "colab": {
          "base_uri": "https://localhost:8080/",
          "height": 833
        },
        "outputId": "6babd385-f60f-42db-b5cf-c7b881da768f"
      }
    },
    {
      "cell_type": "markdown",
      "source": [
        "#Part 2 - Going from Unsupervised to Supervised Deep Learning"
      ],
      "metadata": {
        "id": "-9oatjNmAC8i"
      }
    },
    {
      "cell_type": "markdown",
      "source": [
        "##Create Matrix of Features"
      ],
      "metadata": {
        "id": "eDv-ecVtAtwU"
      }
    },
    {
      "cell_type": "code",
      "execution_count": 8,
      "source": [
        "customers = dataset.iloc[:, 1:].values"
      ],
      "outputs": [],
      "metadata": {
        "id": "h3ADq7HsA3Sh"
      }
    },
    {
      "cell_type": "markdown",
      "source": [
        "## Create Dependent Variable"
      ],
      "metadata": {
        "id": "ycrQvNAvBAng"
      }
    },
    {
      "cell_type": "code",
      "execution_count": 9,
      "source": [
        "is_fraud = np.zeros(len(dataset))\r\n",
        "for i in range(len(dataset)):\r\n",
        "  if dataset.iloc[i,0] in frauds:\r\n",
        "    is_fraud[i] = 1"
      ],
      "outputs": [],
      "metadata": {
        "id": "Dt1TQG3NBFDM"
      }
    },
    {
      "cell_type": "markdown",
      "source": [
        "#Part 3 - ANN"
      ],
      "metadata": {
        "id": "OgQBLi0iBsji"
      }
    },
    {
      "cell_type": "markdown",
      "source": [
        "### Feature Scaling"
      ],
      "metadata": {
        "id": "RE_FcHyfV3TQ"
      }
    },
    {
      "cell_type": "code",
      "execution_count": 10,
      "source": [
        "from sklearn.preprocessing import StandardScaler\r\n",
        "sc = StandardScaler()\r\n",
        "customers = sc.fit_transform(customers)"
      ],
      "outputs": [],
      "metadata": {
        "id": "ViCrE00rV8Sk"
      }
    },
    {
      "cell_type": "markdown",
      "source": [
        "## Building the ANN"
      ],
      "metadata": {
        "id": "-zfEzkRVXIwF"
      }
    },
    {
      "cell_type": "markdown",
      "source": [
        "##Import Tensorflow"
      ],
      "metadata": {
        "id": "S5-uTVVvCcTf"
      }
    },
    {
      "cell_type": "code",
      "execution_count": 11,
      "source": [
        "import tensorflow as tf\r\n",
        "tf.__version__"
      ],
      "outputs": [
        {
          "output_type": "execute_result",
          "data": {
            "text/plain": [
              "'2.6.0'"
            ]
          },
          "metadata": {},
          "execution_count": 11
        }
      ],
      "metadata": {
        "id": "veBa6HoECbZI",
        "colab": {
          "base_uri": "https://localhost:8080/",
          "height": 34
        },
        "outputId": "bec46426-fda2-40fd-832c-09b6a44001a9"
      }
    },
    {
      "cell_type": "markdown",
      "source": [
        "## Initializing the ANN"
      ],
      "metadata": {
        "id": "KvdeScabXtlB"
      }
    },
    {
      "cell_type": "code",
      "execution_count": 12,
      "source": [
        "ann = tf.keras.models.Sequential()"
      ],
      "outputs": [],
      "metadata": {
        "id": "3dtrScHxXQox"
      }
    },
    {
      "cell_type": "markdown",
      "source": [
        "##Adding the input layer and the first hidden layer"
      ],
      "metadata": {
        "id": "rP6urV6SX7kS"
      }
    },
    {
      "cell_type": "code",
      "execution_count": 13,
      "source": [
        "ann.add(tf.keras.layers.Dense(units=2, activation='relu'))"
      ],
      "outputs": [],
      "metadata": {
        "id": "bppGycBXYCQr"
      }
    },
    {
      "cell_type": "markdown",
      "source": [
        "## Adding the output layer"
      ],
      "metadata": {
        "id": "OyNEe6RXYcU4"
      }
    },
    {
      "cell_type": "code",
      "execution_count": 14,
      "source": [
        "ann.add(tf.keras.layers.Dense(units=1, activation='sigmoid'))"
      ],
      "outputs": [],
      "metadata": {
        "id": "Cn3x41RBYfvY"
      }
    },
    {
      "cell_type": "markdown",
      "source": [
        "## Training the ANN"
      ],
      "metadata": {
        "id": "JT4u2S1_Y4WG"
      }
    },
    {
      "cell_type": "markdown",
      "source": [
        "## Compiling the ANN"
      ],
      "metadata": {
        "id": "8GWlJChhY_ZI"
      }
    },
    {
      "cell_type": "code",
      "execution_count": 15,
      "source": [
        "ann.compile(optimizer = 'adam', loss = 'binary_crossentropy', metrics = ['accuracy'])"
      ],
      "outputs": [],
      "metadata": {
        "id": "fG3RrwDXZEaS"
      }
    },
    {
      "cell_type": "markdown",
      "source": [
        "## Training the ANN on the Training set"
      ],
      "metadata": {
        "id": "0QR_G5u7ZLSM"
      }
    },
    {
      "cell_type": "code",
      "execution_count": 16,
      "source": [
        "ann.fit(customers, is_fraud, batch_size = 1, epochs = 10)"
      ],
      "outputs": [
        {
          "output_type": "stream",
          "name": "stdout",
          "text": [
            "Epoch 1/10\n",
            "690/690 [==============================] - 1s 373us/step - loss: 0.6177 - accuracy: 0.7638\n",
            "Epoch 2/10\n",
            "690/690 [==============================] - 0s 378us/step - loss: 0.2549 - accuracy: 0.9870\n",
            "Epoch 3/10\n",
            "690/690 [==============================] - 0s 379us/step - loss: 0.1502 - accuracy: 0.9928\n",
            "Epoch 4/10\n",
            "690/690 [==============================] - 0s 375us/step - loss: 0.1042 - accuracy: 0.9928\n",
            "Epoch 5/10\n",
            "690/690 [==============================] - 0s 363us/step - loss: 0.0757 - accuracy: 0.9928\n",
            "Epoch 6/10\n",
            "690/690 [==============================] - 0s 376us/step - loss: 0.0550 - accuracy: 0.9928\n",
            "Epoch 7/10\n",
            "690/690 [==============================] - 0s 365us/step - loss: 0.0424 - accuracy: 0.9928\n",
            "Epoch 8/10\n",
            "690/690 [==============================] - 0s 356us/step - loss: 0.0355 - accuracy: 0.9928\n",
            "Epoch 9/10\n",
            "690/690 [==============================] - 0s 360us/step - loss: 0.0319 - accuracy: 0.9928\n",
            "Epoch 10/10\n",
            "690/690 [==============================] - 0s 372us/step - loss: 0.0305 - accuracy: 0.9928\n"
          ]
        },
        {
          "output_type": "execute_result",
          "data": {
            "text/plain": [
              "<keras.callbacks.History at 0x296870322b0>"
            ]
          },
          "metadata": {},
          "execution_count": 16
        }
      ],
      "metadata": {
        "id": "nHZ-LKv_ZRb3",
        "colab": {
          "base_uri": "https://localhost:8080/",
          "height": 374
        },
        "outputId": "b9f6c5ec-47ae-4ebf-868b-d72ed3c02996"
      }
    },
    {
      "cell_type": "markdown",
      "source": [
        "## Predicting test set results"
      ],
      "metadata": {
        "id": "tJj5k2MxZga3"
      }
    },
    {
      "cell_type": "code",
      "execution_count": 21,
      "source": [
        "y_pred = ann.predict(customers)\r\n",
        "y_pred = np.concatenate((dataset.iloc[:, 0:1].values, y_pred), axis = 1)\r\n",
        "y_pred = y_pred[y_pred[:, 1].argsort()]"
      ],
      "outputs": [],
      "metadata": {
        "id": "nIyEeQdRZwgs"
      }
    },
    {
      "cell_type": "code",
      "execution_count": 22,
      "source": [
        "print(y_pred)"
      ],
      "outputs": [
        {
          "output_type": "stream",
          "name": "stdout",
          "text": [
            "[[1.56896920e+07 6.21901063e-06]\n",
            " [1.55933450e+07 7.74700948e-06]\n",
            " [1.57684740e+07 1.27251442e-05]\n",
            " ...\n",
            " [1.55988020e+07 1.19847000e-01]\n",
            " [1.57627160e+07 1.21604979e-01]\n",
            " [1.57901130e+07 8.82424116e-01]]\n"
          ]
        }
      ],
      "metadata": {
        "id": "fX2iDXYiD-sN"
      }
    }
  ]
}