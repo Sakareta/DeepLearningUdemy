{
  "nbformat": 4,
  "nbformat_minor": 2,
  "metadata": {
    "colab": {
      "name": "SOM.ipynb",
      "provenance": [],
      "collapsed_sections": [],
      "toc_visible": true
    },
    "kernelspec": {
      "name": "python3",
      "display_name": "Python 3.9.7 64-bit ('env1': venv)"
    },
    "language_info": {
      "name": "python",
      "version": "3.9.7",
      "mimetype": "text/x-python",
      "codemirror_mode": {
        "name": "ipython",
        "version": 3
      },
      "pygments_lexer": "ipython3",
      "nbconvert_exporter": "python",
      "file_extension": ".py"
    },
    "interpreter": {
      "hash": "b2af1daafd6ad350b44242976defd5ff65dadb99ba99b825653adc634e74451a"
    }
  },
  "cells": [
    {
      "cell_type": "markdown",
      "source": [
        "#Self Organizing Map"
      ],
      "metadata": {
        "id": "t9oX7AL3nyLm"
      }
    },
    {
      "cell_type": "markdown",
      "source": [
        "### Importing the libraries\n"
      ],
      "metadata": {
        "id": "6AX0Y23PnyOI"
      }
    },
    {
      "cell_type": "code",
      "execution_count": 1,
      "source": [
        "import numpy as np\r\n",
        "import pandas as pd\r\n",
        "import matplotlib.pyplot as plt"
      ],
      "outputs": [],
      "metadata": {
        "id": "gaSkOFKKBB3b"
      }
    },
    {
      "cell_type": "markdown",
      "source": [
        "## Importing the dataset"
      ],
      "metadata": {
        "id": "SCl7ERn_n539"
      }
    },
    {
      "cell_type": "code",
      "execution_count": 2,
      "source": [
        "dataset = pd.read_csv('Credit_Card_Applications.csv')\r\n",
        "X = dataset.iloc[:, :-1].values \r\n",
        "y = dataset.iloc[:, -1].values"
      ],
      "outputs": [],
      "metadata": {
        "id": "4hgeaN3CoRfl"
      }
    },
    {
      "cell_type": "markdown",
      "source": [
        "## Feature Scaling\n"
      ],
      "metadata": {
        "id": "fYHJ0dd6n-d4"
      }
    },
    {
      "cell_type": "code",
      "execution_count": 3,
      "source": [
        "from sklearn.preprocessing import MinMaxScaler\r\n",
        "sc = MinMaxScaler(feature_range = (0,1))\r\n",
        "X = sc.fit_transform(X)"
      ],
      "outputs": [],
      "metadata": {
        "id": "sY7JiUxwoSOd"
      }
    },
    {
      "cell_type": "markdown",
      "source": [
        "##Training the SOM\n"
      ],
      "metadata": {
        "id": "aPp-7wfNoAhR"
      }
    },
    {
      "cell_type": "code",
      "execution_count": 5,
      "source": [
        "from minisom import MiniSom\r\n",
        "som = MiniSom(x=10, y=10, input_len= 15, sigma= 1.0, learning_rate = 0.5)\r\n",
        "som.random_weights_init(X)\r\n",
        "som.train_random(data = X, num_iteration = 100)"
      ],
      "outputs": [],
      "metadata": {
        "id": "3iuAhM6ooS0k"
      }
    },
    {
      "cell_type": "markdown",
      "source": [
        "##Visualizing the results\n"
      ],
      "metadata": {
        "id": "YiU27C-ToCnH"
      }
    },
    {
      "cell_type": "code",
      "execution_count": 7,
      "source": [
        "from pylab import bone, pcolor, colorbar, plot, show\r\n",
        "bone()\r\n",
        "pcolor(som.distance_map().T)\r\n",
        "colorbar()\r\n",
        "markers = ['o', 's']\r\n",
        "colors = ['r', 'g']\r\n",
        "for i, x in enumerate(X):\r\n",
        "    w = som.winner(x)\r\n",
        "    plot(w[0] + 0.5,\r\n",
        "         w[1] + 0.5,\r\n",
        "         markers[y[i]],\r\n",
        "         markeredgecolor = colors[y[i]],\r\n",
        "         markerfacecolor = 'None',\r\n",
        "         markersize = 10,\r\n",
        "         markeredgewidth = 2)\r\n",
        "show()"
      ],
      "outputs": [
        {
          "output_type": "display_data",
          "data": {
            "image/png": "[encoded data removed]",
            "text/plain": [
              "<Figure size 432x288 with 2 Axes>"
            ]
          },
          "metadata": {
            "needs_background": "light"
          }
        }
      ],
      "metadata": {
        "id": "XzrIX4fZoTQj"
      }
    },
    {
      "cell_type": "markdown",
      "source": [
        "## Finding the frauds\n"
      ],
      "metadata": {
        "id": "4C-I_jBfoEkP"
      }
    },
    {
      "cell_type": "code",
      "execution_count": null,
      "source": [
        "mappings = som.win_map(X)\r\n",
        "frauds = np.concatenate((mappings[(1,1)], mappings[(4,1)]), axis = 0)\r\n",
        "frauds = sc.inverse_transform(frauds)"
      ],
      "outputs": [],
      "metadata": {
        "id": "4xd-jb8doTlM"
      }
    },
    {
      "cell_type": "markdown",
      "source": [
        "##Printing the Fraunch Clients"
      ],
      "metadata": {
        "id": "frXqAlpo84b1"
      }
    },
    {
      "cell_type": "code",
      "execution_count": null,
      "source": [
        "print('Fraud Customer IDs')\r\n",
        "for i in frauds[:, 0]:\r\n",
        "  print(int(i))"
      ],
      "outputs": [
        {
          "output_type": "stream",
          "name": "stdout",
          "text": [
            "Fraud Customer IDs\n",
            "15686461\n",
            "15680643\n",
            "15692137\n",
            "15668830\n",
            "15712877\n",
            "15573520\n",
            "15676909\n",
            "15647898\n",
            "15679801\n",
            "15788215\n",
            "15726466\n",
            "15692408\n",
            "15694530\n",
            "15667451\n",
            "15763108\n",
            "15730287\n",
            "15728906\n",
            "15736510\n",
            "15708236\n",
            "15686670\n",
            "15736420\n",
            "15624850\n",
            "15765093\n",
            "15737542\n",
            "15615176\n",
            "15656417\n",
            "15748691\n",
            "15748986\n",
            "15727811\n",
            "15665590\n"
          ]
        }
      ],
      "metadata": {
        "id": "54a4NnJo8761",
        "colab": {
          "base_uri": "https://localhost:8080/",
          "height": 544
        },
        "outputId": "1d7ae019-4598-4750-a64f-fdedfdc7fe48"
      }
    }
  ]
}